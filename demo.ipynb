{
 "cells": [
  {
   "cell_type": "markdown",
   "id": "84f8905a",
   "metadata": {},
   "source": [
    "# Z3 Solver Project Demo\n",
    "Presentation purposes\n",
    "\n",
    "*Svolto per la presentazione del progetto all'orale*"
   ]
  },
  {
   "cell_type": "code",
   "execution_count": 1,
   "id": "ea895ad5",
   "metadata": {},
   "outputs": [],
   "source": [
    "import pandas as pd \n",
    "import numpy as np \n",
    "import itertools \n",
    "from model import TimetableScheduler\n",
    "from z3 import *"
   ]
  },
  {
   "cell_type": "markdown",
   "id": "8444e593",
   "metadata": {},
   "source": [
    "## Scenario 1: Toy Model\n",
    "Simple model containing just a few sessions and courses, not intended to be realistic in any way\n",
    "\n",
    "*Modello semplice che contiene qualche sessione e corsi, inteso solo per motivi di testing*\n",
    "\n",
    "Corsi:\n",
    "- Maths 101\n",
    "    - Sessioni: 2, 2\n",
    "    - Tenuto dal prof. John Smith\n",
    "    - Frequentato dalle classi 1, 3\n",
    "- Intro. to Wizardry\n",
    "    - Sessioni: 3, 1\n",
    "    - Tenuto dal prof. John Smith\n",
    "    - Frequentata dalla classe 2\n",
    "- Reading 102\n",
    "    - Sessioni: 1, 2\n",
    "    - Tenuto dal prof. Andrea Garfields\n",
    "    - Frequentata dalla classe 1\n",
    "- Musical Analysis\n",
    "    - Sessioni: 2, 5\n",
    "    - Tenuto dal prof. John Doe\n",
    "    - Frequentata dalle classi 2, 3\n",
    "- Advanced English\n",
    "    - Sessioni: 2\n",
    "    - Tenuto dal prof. Andrea Garfields\n",
    "    - Frequentata dalla classe 1\n",
    "- Tennis\n",
    "    - Sessioni: 1\n",
    "    - Tenuto dal prof. Jane Doe\n",
    "    - Frequentata dalla classe 2\n",
    "\n",
    "Aule:\n",
    "- Una aula grande (200 persone)\n",
    "- Una aula media (100 persone)\n",
    "- Una aula piccola (50 persone)\n",
    "- Una aula piccolissima (10 persone)"
   ]
  },
  {
   "cell_type": "code",
   "execution_count": 2,
   "id": "c760bfb6",
   "metadata": {},
   "outputs": [],
   "source": [
    "toy_schedule = TimetableScheduler('sample_1', 5)"
   ]
  },
  {
   "cell_type": "code",
   "execution_count": 3,
   "id": "5a24d1f4",
   "metadata": {},
   "outputs": [],
   "source": [
    "toy_schedule.start()"
   ]
  },
  {
   "cell_type": "code",
   "execution_count": 4,
   "id": "8f74cbee",
   "metadata": {},
   "outputs": [],
   "source": [
    "toy_schedule.add_constraints()"
   ]
  },
  {
   "cell_type": "code",
   "execution_count": 5,
   "id": "028e639f",
   "metadata": {},
   "outputs": [
    {
     "name": "stdout",
     "output_type": "stream",
     "text": [
      "TIME TABLE SUCCESSFULLY CREATED\n",
      "Saving the schedule in the SQL Database...\n",
      "Schedule saved\n"
     ]
    }
   ],
   "source": [
    "toy_schedule.solve()"
   ]
  },
  {
   "cell_type": "code",
   "execution_count": 6,
   "id": "1036ab11",
   "metadata": {},
   "outputs": [],
   "source": [
    "names = toy_schedule.database.get_names()"
   ]
  },
  {
   "cell_type": "code",
   "execution_count": 7,
   "id": "0d88dc4c",
   "metadata": {},
   "outputs": [],
   "source": [
    "timetable = []\n",
    "for t in toy_schedule.T:\n",
    "    t_slots = []\n",
    "\n",
    "    for (S, A) in itertools.product(toy_schedule.indexes['Sessions'], toy_schedule.indexes['Rooms']):\n",
    "        S_c = toy_schedule.database.get_course(S)\n",
    "        if toy_schedule.model.evaluate(toy_schedule.X[S,t,A], model_completion=True):\n",
    "            t_slots.append(f\"{names['Courses'][toy_schedule.database.get_course(S)]} [{names['Rooms'][A]}]\")\n",
    "                \n",
    "    if t_slots == []:\n",
    "        t_slots = [\"NESSUNA LEZIONE\"]\n",
    "    timetable.append(\" > \" + \"\\n> \".join(t_slots))"
   ]
  },
  {
   "cell_type": "code",
   "execution_count": 8,
   "id": "4b78d43a",
   "metadata": {},
   "outputs": [],
   "source": [
    "rows = [\"11:00-12:00\",\"12:00-13:00\",\"13:00-14:00\",\"14:00-15:00\",\"15:00-16:00\"]\n",
    "columns = [\"Lunedì\", \"Martedì\", \"Mercoledì\", \"Giovedì\", \"Venerdì\", \"Sabato\"]"
   ]
  },
  {
   "cell_type": "code",
   "execution_count": 9,
   "id": "1aba44c0",
   "metadata": {},
   "outputs": [],
   "source": [
    "np_timetable = np.array(timetable, dtype=object)\n",
    "np_timetable = np_timetable.reshape(6,5)"
   ]
  },
  {
   "cell_type": "code",
   "execution_count": 10,
   "id": "0ef3e37b",
   "metadata": {},
   "outputs": [],
   "source": [
    "df = pd.DataFrame(np_timetable, columns=rows, index=columns)"
   ]
  },
  {
   "cell_type": "code",
   "execution_count": null,
   "id": "934888fc",
   "metadata": {},
   "outputs": [
    {
     "data": {
      "text/html": [
       "<table border=\"1\" class=\"dataframe\">\n",
       "  <thead>\n",
       "    <tr style=\"text-align: right;\">\n",
       "      <th></th>\n",
       "      <th>Lunedì</th>\n",
       "      <th>Martedì</th>\n",
       "      <th>Mercoledì</th>\n",
       "      <th>Giovedì</th>\n",
       "      <th>Venerdì</th>\n",
       "      <th>Sabato</th>\n",
       "    </tr>\n",
       "  </thead>\n",
       "  <tbody>\n",
       "    <tr>\n",
       "      <th>11:00-12:00</th>\n",
       "      <td>&gt; Musical Analysis [Medium Room]</td>\n",
       "      <td>&gt; Introduction to Wizardry [Small Room]</td>\n",
       "      <td>&gt; Maths 101 [Big Room]<br>&gt; Tennis 101 [Small Room]</td>\n",
       "      <td>&gt; NESSUNA LEZIONE</td>\n",
       "      <td>&gt; NESSUNA LEZIONE</td>\n",
       "      <td>&gt; NESSUNA LEZIONE</td>\n",
       "    </tr>\n",
       "    <tr>\n",
       "      <th>12:00-13:00</th>\n",
       "      <td>&gt; Musical Analysis [Medium Room]</td>\n",
       "      <td>&gt; Introduction to Wizardry [Small Room]</td>\n",
       "      <td>&gt; Maths 101 [Big Room]</td>\n",
       "      <td>&gt; Reading 102 [Medium Room]</td>\n",
       "      <td>&gt; NESSUNA LEZIONE</td>\n",
       "      <td>&gt; Reading 102 [Big Room]</td>\n",
       "    </tr>\n",
       "    <tr>\n",
       "      <th>13:00-14:00</th>\n",
       "      <td>&gt; Musical Analysis [Medium Room]</td>\n",
       "      <td>&gt; Introduction to Wizardry [Small Room]</td>\n",
       "      <td>&gt; Maths 101 [Big Room]</td>\n",
       "      <td>&gt; Reading 102 [Medium Room]</td>\n",
       "      <td>&gt; NESSUNA LEZIONE</td>\n",
       "      <td>&gt; NESSUNA LEZIONE</td>\n",
       "    </tr>\n",
       "    <tr>\n",
       "      <th>14:00-15:00</th>\n",
       "      <td>&gt; Musical Analysis [Medium Room]</td>\n",
       "      <td>&gt; Musical Analysis [Medium Room]</td>\n",
       "      <td>&gt; Maths 101 [Big Room]</td>\n",
       "      <td>&gt; Advanced English [Small Room]</td>\n",
       "      <td>&gt; NESSUNA LEZIONE</td>\n",
       "      <td>&gt; NESSUNA LEZIONE</td>\n",
       "    </tr>\n",
       "    <tr>\n",
       "      <th>15:00-16:00</th>\n",
       "      <td>&gt; Musical Analysis [Medium Room]</td>\n",
       "      <td>&gt; Musical Analysis [Medium Room]</td>\n",
       "      <td>&gt; NESSUNA LEZIONE</td>\n",
       "      <td>&gt; Advanced English [Small Room]</td>\n",
       "      <td>&gt; NESSUNA LEZIONE</td>\n",
       "      <td>&gt; NESSUNA LEZIONE</td>\n",
       "    </tr>\n",
       "  </tbody>\n",
       "</table>"
      ],
      "text/plain": [
       "<IPython.core.display.HTML object>"
      ]
     },
     "metadata": {},
     "output_type": "display_data"
    }
   ],
   "source": [
    "from IPython.display import display, HTML\n",
    "display(HTML(df.T.to_html().replace(\"\\\\n\", \"<br>\")))"
   ]
  },
  {
   "cell_type": "code",
   "execution_count": 12,
   "id": "09174a1a",
   "metadata": {},
   "outputs": [],
   "source": [
    "toy_schedule.end()"
   ]
  },
  {
   "cell_type": "markdown",
   "id": "d2d809ce",
   "metadata": {},
   "source": [
    "## Scenario 2: Next Semester's Courses for AIDA\n",
    "Simplified model containing (estimated) sessions and courses for the next semester in AIDA.\n",
    "\n",
    "*Modello semplificato che contiene i corsi del prossimo semestre del CdS triennale in IADA (2025-2026, Primo Semestre)*"
   ]
  },
  {
   "cell_type": "markdown",
   "id": "48013616",
   "metadata": {},
   "source": [
    "Vincoli aggiuntivi: \n",
    "- Non ci sono lezioni il sabato\n",
    "$$\n",
    "\\forall S, T, A, \\text{ s.t. }T\\text{ rappresenta un'ora in sabato }(\\lfloor T/6 \\rfloor = 6), X_{S,T,A} \\implies \\text{False}\n",
    "$$\n",
    "\n",
    "- Gli studenti del 1°, 2° e del 3° anno hanno orari di pranzo diversi per evitare il sovraffollamento delle mense (2°, 3° sono raggruppati assieme per semplicità). Ovvero, a loro si garantiscono delle \"ore vuote\" per pranzare che sono diverse a seconda dell'anno.\n",
    "    - Si suppone che tramite un sondaggio si è deciso che quelli del 1° anno pranzano alle 12-13 e quelli del 2°, 3° anno alle 13-14\n",
    "\n",
    "$$\n",
    "\\bigvee_{\\begin{gather*}S,T,V\\\\ \\tiny{T \\text{ rappresenta una fascia oraria dalle 12-13}}, \\\\ \\tiny{S\\text{ è una sessione di un corso del 1° anno}}\\end{gather*}} \\neg X_{S,T,V}\n",
    "$$\n",
    "\n",
    "e\n",
    "\n",
    "$$\n",
    "\\bigvee_{\\begin{gather*}S,T,V\\\\ \\tiny{T \\text{ rappresenta una fascia oraria dalle 13-14}}, \\\\ \\tiny{S\\text{ è una sessione di un corso del 2° e del 3° anno}}\\end{gather*}} \\neg X_{S,T,V}\n",
    "$$"
   ]
  },
  {
   "cell_type": "code",
   "execution_count": 13,
   "id": "8a845eb4",
   "metadata": {},
   "outputs": [],
   "source": [
    "orario_aida = TimetableScheduler('aida', 9)"
   ]
  },
  {
   "cell_type": "code",
   "execution_count": 14,
   "id": "ad363c9c",
   "metadata": {},
   "outputs": [],
   "source": [
    "orario_aida.start()"
   ]
  },
  {
   "cell_type": "code",
   "execution_count": 15,
   "id": "7c913796",
   "metadata": {},
   "outputs": [],
   "source": [
    "from z3 import Not"
   ]
  },
  {
   "cell_type": "code",
   "execution_count": 16,
   "id": "f4581aa4",
   "metadata": {},
   "outputs": [],
   "source": [
    "# add custom constraint: no lezioni il sabato\n",
    "for (S,T,A) in itertools.product(orario_aida.indexes['Sessions'],\n",
    "                                 orario_aida.T,\n",
    "                                 orario_aida.indexes['Rooms']):\n",
    "    if (T // 9) == (6-1):\n",
    "        orario_aida.solver.add(Not(orario_aida.X[S,T,A]))\n"
   ]
  },
  {
   "cell_type": "code",
   "execution_count": 17,
   "id": "95dbc601",
   "metadata": {},
   "outputs": [],
   "source": [
    "# add custom constraint: turnazione delle mense\n",
    "# osserviamo che i numeri 3, 4 rappresentano le fasce orarie 12-13 e 13-14 del lunedì. Se le sommiamo ad un multiplo di 9 otteniamo la stessa fascia oraria, riferita ad un altro giorno.\n",
    "courses_1 = orario_aida.database.get_courses(1)\n",
    "courses_2 = orario_aida.database.get_courses(2)\n",
    "courses_3 = orario_aida.database.get_courses(3)\n",
    "\n",
    "i = 3\n",
    "while i < max(orario_aida.T):\n",
    "    for course in courses_1:\n",
    "        orario_aida.solver.add(And([\n",
    "            Not(orario_aida.X[S,i, A]) for (S,A) in itertools.product(orario_aida.database.get_sessions(course), orario_aida.indexes['Rooms'])\n",
    "        ]))\n",
    "\n",
    "    i += 9\n",
    "\n",
    "i = 4\n",
    "while i < max(orario_aida.T):\n",
    "    for course in courses_2:\n",
    "        orario_aida.solver.add(And([\n",
    "            Not(orario_aida.X[S,i, A]) for (S,A) in itertools.product(orario_aida.database.get_sessions(course), orario_aida.indexes['Rooms'])\n",
    "        ]))\n",
    "\n",
    "    for course in courses_3:\n",
    "        orario_aida.solver.add(And([\n",
    "            Not(orario_aida.X[S,i, A]) for (S,A) in itertools.product(orario_aida.database.get_sessions(course), orario_aida.indexes['Rooms'])\n",
    "        ]))\n",
    "\n",
    "    i += 9"
   ]
  },
  {
   "cell_type": "code",
   "execution_count": 18,
   "id": "a68bc3f0",
   "metadata": {},
   "outputs": [],
   "source": [
    "orario_aida.add_constraints()"
   ]
  },
  {
   "cell_type": "code",
   "execution_count": 19,
   "id": "1c0010b3",
   "metadata": {},
   "outputs": [
    {
     "name": "stdout",
     "output_type": "stream",
     "text": [
      "TIME TABLE SUCCESSFULLY CREATED\n",
      "Saving the schedule in the SQL Database...\n",
      "Schedule saved\n"
     ]
    }
   ],
   "source": [
    "\n",
    "orario_aida.solve()"
   ]
  },
  {
   "cell_type": "code",
   "execution_count": 20,
   "id": "91c1a07b",
   "metadata": {},
   "outputs": [],
   "source": [
    "# stampa l'orario per AIDA\n",
    "names = orario_aida.database.get_names()\n",
    "aida_timeslots = []\n",
    "\n",
    "for t in orario_aida.T:\n",
    "    t_slots = []\n",
    "\n",
    "    for (S, A) in itertools.product(orario_aida.indexes['Sessions'], orario_aida.indexes['Rooms']):\n",
    "        S_c = orario_aida.database.get_course(S)\n",
    "        if orario_aida.model.evaluate(orario_aida.X[S,t,A], model_completion=True):\n",
    "            t_slots.append(f\"{names['Courses'][orario_aida.database.get_course(S)]} [{names['Rooms'][A]}]\")\n",
    "                \n",
    "    if t_slots == []:\n",
    "        t_slots = ['NESSUNA LEZIONE']\n",
    "    aida_timeslots.append(\" > \" + \"\\n > \".join(t_slots))"
   ]
  },
  {
   "cell_type": "code",
   "execution_count": 21,
   "id": "f9f1f04e",
   "metadata": {},
   "outputs": [],
   "source": [
    "rows = [\"09:00-10:00\",\"10:00-11:00\",\"11:00-12:00\",\"12:00-13:00\",\"13:00-14:00\",\"14:00-15:00\",\"15:00-16:00\",\"16:00-17:00\",\"17:00-18:00\"]\n",
    "columns = [\"Lunedì\", \"Martedì\", \"Mercoledì\", \"Giovedì\", \"Venerdì\", \"Sabato\"]\n",
    "\n",
    "np_aida_timetable = np.array(aida_timeslots, dtype=object)\n",
    "np_aida_timetable = np_aida_timetable.reshape(6,9)\n",
    "df = pd.DataFrame(np_aida_timetable, columns=rows, index=columns)"
   ]
  },
  {
   "cell_type": "code",
   "execution_count": null,
   "id": "aae657c2",
   "metadata": {},
   "outputs": [
    {
     "data": {
      "text/html": [
       "<table border=\"1\" class=\"dataframe\">\n",
       "  <thead>\n",
       "    <tr style=\"text-align: right;\">\n",
       "      <th></th>\n",
       "      <th>Lunedì</th>\n",
       "      <th>Martedì</th>\n",
       "      <th>Mercoledì</th>\n",
       "      <th>Giovedì</th>\n",
       "      <th>Venerdì</th>\n",
       "      <th>Sabato</th>\n",
       "    </tr>\n",
       "  </thead>\n",
       "  <tbody>\n",
       "    <tr>\n",
       "      <th>09:00-10:00</th>\n",
       "      <td>&gt; ALGEBRA LINEARE ED ELEMENTI DI GEOMETRIA [H3, 1A]<br> &gt; INTRODUZIONE ALL INTELLIGENZA ARTIFICIALE [H3, 2A]</td>\n",
       "      <td>&gt; ALGEBRA LINEARE ED ELEMENTI DI GEOMETRIA [H2 Bis, 2A MORIN]<br> &gt; COMPUTABILITà, COMPLESSITà E LOGICA [H3, 2C]</td>\n",
       "      <td>&gt; INTRODUZIONE ALLA PROGRAMMAZIONE E LABORATORIO [H3, 1A]<br> &gt; INFERENZA STATISTICA [H2 Bis, 3B]</td>\n",
       "      <td>&gt; PROGRAMMAZIONE AVANZATA E PARALLELA [H3, 1B]</td>\n",
       "      <td>&gt; INTRODUZIONE ALLA PROGRAMMAZIONE E LABORATORIO [H3, 2B]<br> &gt; ALGORITMI E STRUTTURE DATI [H3, 2A]</td>\n",
       "      <td>&gt; NESSUNA LEZIONE</td>\n",
       "    </tr>\n",
       "    <tr>\n",
       "      <th>10:00-11:00</th>\n",
       "      <td>&gt; ALGEBRA LINEARE ED ELEMENTI DI GEOMETRIA [H3, 1A]<br> &gt; INTRODUZIONE ALL INTELLIGENZA ARTIFICIALE [H3, 2A]</td>\n",
       "      <td>&gt; ALGEBRA LINEARE ED ELEMENTI DI GEOMETRIA [H2 Bis, 2A MORIN]<br> &gt; COMPUTABILITà, COMPLESSITà E LOGICA [H3, 2C]<br> &gt; SISTEMI COMPLESSI [H3, 1A]</td>\n",
       "      <td>&gt; INTRODUZIONE ALLA PROGRAMMAZIONE E LABORATORIO [H3, 1A]<br> &gt; INFERENZA STATISTICA [H2 Bis, 3B]</td>\n",
       "      <td>&gt; ANALISI 1 [H3, 2A]<br> &gt; PROGRAMMAZIONE AVANZATA E PARALLELA [H3, 1B]</td>\n",
       "      <td>&gt; INTRODUZIONE ALLA PROGRAMMAZIONE E LABORATORIO [H3, 2B]<br> &gt; ALGORITMI E STRUTTURE DATI [H3, 2A]</td>\n",
       "      <td>&gt; NESSUNA LEZIONE</td>\n",
       "    </tr>\n",
       "    <tr>\n",
       "      <th>11:00-12:00</th>\n",
       "      <td>&gt; COMPUTABILITà, COMPLESSITà E LOGICA [H2 Bis, 2A MORIN]<br> &gt; INTRODUZIONE ALL INTELLIGENZA ARTIFICIALE [H3, 2A]</td>\n",
       "      <td>&gt; COMPUTABILITà, COMPLESSITà E LOGICA [H2 Bis, 2A MORIN]<br> &gt; SISTEMI COMPLESSI [H3, 1A]</td>\n",
       "      <td>&gt; PROGRAMMAZIONE AVANZATA E PARALLELA [H3, 1C]</td>\n",
       "      <td>&gt; ANALISI 1 [H3, 2A]<br> &gt; INTRODUZIONE ALL INTELLIGENZA ARTIFICIALE [H3, 1B]</td>\n",
       "      <td>&gt; INTRODUZIONE ALLA PROGRAMMAZIONE E LABORATORIO [H3, 2B]<br> &gt; INFERENZA STATISTICA [H2 Bis, 2A MORIN]</td>\n",
       "      <td>&gt; NESSUNA LEZIONE</td>\n",
       "    </tr>\n",
       "    <tr>\n",
       "      <th>12:00-13:00</th>\n",
       "      <td>&gt; COMPUTABILITà, COMPLESSITà E LOGICA [H2 Bis, 2A MORIN]</td>\n",
       "      <td>&gt; COMPUTABILITà, COMPLESSITà E LOGICA [H2 Bis, 2A MORIN]</td>\n",
       "      <td>&gt; PROGRAMMAZIONE AVANZATA E PARALLELA [H3, 1C]</td>\n",
       "      <td>&gt; INTRODUZIONE ALL INTELLIGENZA ARTIFICIALE [H3, 1B]</td>\n",
       "      <td>&gt; INFERENZA STATISTICA [H2 Bis, 2A MORIN]</td>\n",
       "      <td>&gt; NESSUNA LEZIONE</td>\n",
       "    </tr>\n",
       "    <tr>\n",
       "      <th>13:00-14:00</th>\n",
       "      <td>&gt; ANALISI 1 [H3, 2B]</td>\n",
       "      <td>&gt; INTRODUZIONE ALLA PROGRAMMAZIONE E LABORATORIO [H3, 1B]</td>\n",
       "      <td>&gt; ALGEBRA LINEARE ED ELEMENTI DI GEOMETRIA [H3, 2B]</td>\n",
       "      <td>&gt; NESSUNA LEZIONE</td>\n",
       "      <td>&gt; NESSUNA LEZIONE</td>\n",
       "      <td>&gt; NESSUNA LEZIONE</td>\n",
       "    </tr>\n",
       "    <tr>\n",
       "      <th>14:00-15:00</th>\n",
       "      <td>&gt; ANALISI 1 [H3, 2B]<br> &gt; INTRODUZIONE ALL INTELLIGENZA ARTIFICIALE [H3, 2C]</td>\n",
       "      <td>&gt; INTRODUZIONE ALLA PROGRAMMAZIONE E LABORATORIO [H3, 1B]<br> &gt; ALGORITMI E STRUTTURE DATI [H3, 2C]<br> &gt; INTRODUZIONE AL MACHINE LEARNING [H2 Bis, 5A]</td>\n",
       "      <td>&gt; ALGEBRA LINEARE ED ELEMENTI DI GEOMETRIA [H3, 2B]<br> &gt; SISTEMI COMPLESSI [H2 Bis, 4C]</td>\n",
       "      <td>&gt; PROGRAMMAZIONE AVANZATA E PARALLELA [H3, 1A]</td>\n",
       "      <td>&gt; INFERENZA STATISTICA [H3, 1B]</td>\n",
       "      <td>&gt; NESSUNA LEZIONE</td>\n",
       "    </tr>\n",
       "    <tr>\n",
       "      <th>15:00-16:00</th>\n",
       "      <td>&gt; ARCHITETTURE DEGLI ELABORATORI [H3, 1A]<br> &gt; INTRODUZIONE ALL INTELLIGENZA ARTIFICIALE [H3, 2C]</td>\n",
       "      <td>&gt; INTRODUZIONE ALLA PROGRAMMAZIONE E LABORATORIO [H3, 1B]<br> &gt; ALGORITMI E STRUTTURE DATI [H3, 2C]<br> &gt; INTRODUZIONE AL MACHINE LEARNING [H2 Bis, 5A]</td>\n",
       "      <td>&gt; SISTEMI COMPLESSI [H2 Bis, 4C]</td>\n",
       "      <td>&gt; PROGRAMMAZIONE AVANZATA E PARALLELA [H3, 1A]</td>\n",
       "      <td>&gt; INTRODUZIONE ALLA PROGRAMMAZIONE E LABORATORIO [H3, 2B]<br> &gt; INFERENZA STATISTICA [H3, 1B]</td>\n",
       "      <td>&gt; NESSUNA LEZIONE</td>\n",
       "    </tr>\n",
       "    <tr>\n",
       "      <th>16:00-17:00</th>\n",
       "      <td>&gt; ARCHITETTURE DEGLI ELABORATORI [H3, 1A]</td>\n",
       "      <td>&gt; INTRODUZIONE ALLA PROGRAMMAZIONE E LABORATORIO [H3, 1B]<br> &gt; ALGORITMI E STRUTTURE DATI [H3, 1C]</td>\n",
       "      <td>&gt; ANALISI 1 [H2 Bis, 2A MORIN]<br> &gt; SISTEMI COMPLESSI [H2 Bis, 4C]</td>\n",
       "      <td>&gt; INTRODUZIONE AL MACHINE LEARNING [H2 Bis, 3B]</td>\n",
       "      <td>&gt; INTRODUZIONE ALLA PROGRAMMAZIONE E LABORATORIO [H3, 2B]<br> &gt; INTRODUZIONE AL MACHINE LEARNING [H3, 2C]</td>\n",
       "      <td>&gt; NESSUNA LEZIONE</td>\n",
       "    </tr>\n",
       "    <tr>\n",
       "      <th>17:00-18:00</th>\n",
       "      <td>&gt; ARCHITETTURE DEGLI ELABORATORI [H3, 1A]</td>\n",
       "      <td>&gt; ALGORITMI E STRUTTURE DATI [H3, 1C]</td>\n",
       "      <td>&gt; ANALISI 1 [H2 Bis, 2A MORIN]</td>\n",
       "      <td>&gt; INTRODUZIONE AL MACHINE LEARNING [H2 Bis, 3B]</td>\n",
       "      <td>&gt; INTRODUZIONE ALLA PROGRAMMAZIONE E LABORATORIO [H3, 2B]<br> &gt; INTRODUZIONE AL MACHINE LEARNING [H3, 2C]</td>\n",
       "      <td>&gt; NESSUNA LEZIONE</td>\n",
       "    </tr>\n",
       "  </tbody>\n",
       "</table>"
      ],
      "text/plain": [
       "<IPython.core.display.HTML object>"
      ]
     },
     "metadata": {},
     "output_type": "display_data"
    }
   ],
   "source": [
    "from IPython.display import display, HTML \n",
    "display(HTML(df.T.to_html().replace(\"\\\\n\", \"<br>\")))"
   ]
  },
  {
   "cell_type": "code",
   "execution_count": 34,
   "id": "b7325cbe",
   "metadata": {},
   "outputs": [],
   "source": [
    "orario_aida.end()"
   ]
  },
  {
   "attachments": {
    "quadro-LL-20-21.png": {
     "image/png": "[encoded data removed]"
    }
   },
   "cell_type": "markdown",
   "id": "ab10e2fb",
   "metadata": {},
   "source": [
    "## Scenario 3: High School Timetable\n",
    "Model creating a time table for the lessons of a class in high school, the last 3 years\n",
    "\n",
    "*Modello che crea un orario settimanale per le lezioni del trienno di un liceo linguistico, solo per una classe (per semplicità assumiamo che tutti i professori siano assegnati ad una e sola classe)*\n",
    "\n",
    "![!\\[quadro-LL-20-21.png\\](attachment:quadro-LL-20-21.png)\n",
    "](https://www.istitutodantealighieri.it/wp-content/uploads/2023/01/quadro-LL-20-21.png)\n",
    "\n",
    "\n",
    "Richieste specifiche:\n",
    "- Nel quinto anno, le professoresse di Italiano e delle materie d'indirizzo (i.e. Inglese, Tedesco e Russo) hanno chiesto di ottenere uno slot da 3 ore, in un modo tale da consentire di svolgere delle esercitazioni della prima e seconda prova in vista della maturità.\n",
    "- Inoltre, la professoressa di Storia e Filosofia ha chiesto di avere almeno uno slot da due ore, per delle motivazioni analoghe della prof. di Italiano.\n",
    "- Tutte le classi hanno richiesto di avere le due ore di motoria attaccate, per evitare scomodità pratiche. \n",
    "- In vista agli esami di certificazioni delle lingue straniere Inglese e Tedesco, i professori hanno richiesto di ottenere almeno un slot da due ore per svolgere delle esercitazioni.\n",
    "\n",
    "Vincoli specifici:\n",
    "- Tutte le lezioni, tranne quelle di Motoria, saranno assegnate ad un'aula dedicata alla classe. Ad esempio, le lezioni di Italiano del 3° anno verranno assegnate solamente all'aula dedicata agli alunni del 3° anno.\n",
    "- Esiste una sola aula per svolgere le lezioni di Motoria e quindi verrà condivisa tra le classi"
   ]
  },
  {
   "cell_type": "code",
   "execution_count": 23,
   "id": "9a1fef04",
   "metadata": {},
   "outputs": [],
   "source": [
    "import pandas as pd \n",
    "import numpy as np \n",
    "import itertools \n",
    "from model import TimetableScheduler\n",
    "from z3 import *"
   ]
  },
  {
   "cell_type": "code",
   "execution_count": 24,
   "id": "557a33f8",
   "metadata": {},
   "outputs": [],
   "source": [
    "liceo_timetable = TimetableScheduler('liceo', 5)"
   ]
  },
  {
   "cell_type": "code",
   "execution_count": 25,
   "id": "310d32ae",
   "metadata": {},
   "outputs": [],
   "source": [
    "liceo_timetable.start()"
   ]
  },
  {
   "cell_type": "code",
   "execution_count": 26,
   "id": "3b4f238f",
   "metadata": {},
   "outputs": [],
   "source": [
    "liceo_timetable.add_constraints()"
   ]
  },
  {
   "cell_type": "code",
   "execution_count": 27,
   "id": "d63213e9",
   "metadata": {},
   "outputs": [],
   "source": [
    "# Vincoli sulle aule\n",
    "\n",
    "classi = liceo_timetable.indexes['CdS']\n",
    "for classe in classi:\n",
    "    corsi = liceo_timetable.database.get_courses(classe)\n",
    "    for corso in corsi: \n",
    "        if corso in [1501, 2501, 3501]:\n",
    "            continue # esclude motoria\n",
    "\n",
    "        sessioni = liceo_timetable.database.get_sessions(corso)\n",
    "        liceo_timetable.solver.add(\n",
    "            And(\n",
    "                [ Not(liceo_timetable.X[S, T, A]) for (S,T,A) in itertools.product(sessioni, liceo_timetable.T, liceo_timetable.indexes['Rooms']) if A != classe]\n",
    "            \n",
    "            )\n",
    "        )\n",
    "        "
   ]
  },
  {
   "cell_type": "code",
   "execution_count": 28,
   "id": "3359ec9a",
   "metadata": {},
   "outputs": [],
   "source": [
    "# Vincolo sulla palestra\n",
    "sessioni_motoria = [\n",
    "    i[0] for i in liceo_timetable.database.execute_query(\n",
    "        \"\"\"\n",
    "            SELECT DISTINCT IDSession\n",
    "            FROM Session\n",
    "            WHERE IDCourse = 1501 OR IDCourse = 2501 OR IDCourse = 3501; \n",
    "        \"\"\"\n",
    "    )\n",
    "]\n",
    "\n",
    "liceo_timetable.solver.add(\n",
    "    And(\n",
    "        [Not(liceo_timetable.X[S, T, A]) for (S,T,A) in itertools.product(sessioni_motoria, liceo_timetable.T, liceo_timetable.indexes['Rooms']) if A in [1,2,3]]\n",
    "    )\n",
    ")"
   ]
  },
  {
   "cell_type": "code",
   "execution_count": 29,
   "id": "60f18b1a",
   "metadata": {},
   "outputs": [
    {
     "name": "stdout",
     "output_type": "stream",
     "text": [
      "TIME TABLE SUCCESSFULLY CREATED\n",
      "Saving the schedule in the SQL Database...\n",
      "Schedule saved\n"
     ]
    }
   ],
   "source": [
    "liceo_timetable.solver.set(\"timeout\", 3000)\n",
    "\n",
    "liceo_timetable.solve()\n",
    "while not liceo_timetable.model:\n",
    "    liceo_timetable.solve()\n",
    "    print(\"Timed out, restarting...\")"
   ]
  },
  {
   "cell_type": "code",
   "execution_count": 30,
   "id": "e8f162f6",
   "metadata": {},
   "outputs": [],
   "source": [
    "# stampa l'orario per il liceo\n",
    "names = liceo_timetable.database.get_names()\n",
    "liceo_timeslots = []\n",
    "\n",
    "for t in liceo_timetable.T:\n",
    "    t_slots = []\n",
    "\n",
    "    for (S, A) in itertools.product(liceo_timetable.indexes['Sessions'], liceo_timetable.indexes['Rooms']):\n",
    "        S_c = liceo_timetable.database.get_course(S)\n",
    "        if liceo_timetable.model.evaluate(liceo_timetable.X[S,t,A], model_completion=True):\n",
    "            t_slots.append(f\"{names['Courses'][liceo_timetable.database.get_course(S)]} [{names['Rooms'][A]}]\")\n",
    "                \n",
    "    if t_slots == []:\n",
    "        t_slots = ['NESSUNA LEZIONE']\n",
    "    liceo_timeslots.append(\" > \" + \"\\n > \".join(t_slots))"
   ]
  },
  {
   "cell_type": "code",
   "execution_count": 31,
   "id": "4c350399",
   "metadata": {},
   "outputs": [],
   "source": [
    "rows = [\"08:00-09:00\",\"09:00-10:00\",\"10:00-11:00\",\"11:00-12:00\",\"12:00-13:00\"]\n",
    "columns = [\"Lunedì\", \"Martedì\", \"Mercoledì\", \"Giovedì\", \"Venerdì\", \"Sabato\"]\n",
    "\n",
    "np_liceo_timetable = np.array(liceo_timeslots, dtype=object)\n",
    "np_liceo_timetable = np_liceo_timetable.reshape(6, 5)\n",
    "df = pd.DataFrame(np_liceo_timetable, columns=rows, index=columns)"
   ]
  },
  {
   "cell_type": "code",
   "execution_count": null,
   "id": "3af87668",
   "metadata": {},
   "outputs": [
    {
     "data": {
      "text/html": [
       "<table border=\"1\" class=\"dataframe\">\n",
       "  <thead>\n",
       "    <tr style=\"text-align: right;\">\n",
       "      <th></th>\n",
       "      <th>Lunedì</th>\n",
       "      <th>Martedì</th>\n",
       "      <th>Mercoledì</th>\n",
       "      <th>Giovedì</th>\n",
       "      <th>Venerdì</th>\n",
       "      <th>Sabato</th>\n",
       "    </tr>\n",
       "  </thead>\n",
       "  <tbody>\n",
       "    <tr>\n",
       "      <th>08:00-09:00</th>\n",
       "      <td>&gt; FILOSOFIA [ANNO III]<br> &gt; LINGUA E LETTERATURA ITALIANA [ANNO IV]<br> &gt; TERZA LINGUA STRANIERA (RUSSO) [ANNO V]</td>\n",
       "      <td>&gt; FILOSOFIA [ANNO III]<br> &gt; SCIENZE NATURALI [ANNO IV]<br> &gt; PRIMA LINGUA STRANIERA (INGLESE) [ANNO V]</td>\n",
       "      <td>&gt; STORIA DELL'ARTE [ANNO III]<br> &gt; RELIGIONE CATTOCIA O ATTIVITA' ALTERNATIVE [ANNO IV]<br> &gt; MATEMATICA [ANNO V]</td>\n",
       "      <td>&gt; SCIENZE NATURALI [ANNO III]<br> &gt; TERZA LINGUA STRANIERA (RUSSO) [ANNO IV]<br> &gt; LINGUA E LETTERATURA ITALIANA [ANNO V]</td>\n",
       "      <td>&gt; FISICA [ANNO III]<br> &gt; PRIMA LINGUA STRANIERA (INGLESE) [ANNO IV]<br> &gt; LINGUA E LETTERATURA ITALIANA [ANNO V]</td>\n",
       "      <td>&gt; TERZA LINGUA STRANIERA (RUSSO) [ANNO III]<br> &gt; STORIA DELL'ARTE [ANNO IV]<br> &gt; SECONDA LINGUA STRANIERA (TEDESCO) [ANNO V]</td>\n",
       "    </tr>\n",
       "    <tr>\n",
       "      <th>09:00-10:00</th>\n",
       "      <td>&gt; RELIGIONE CATTOCIA O ATTIVITA' ALTERNATIVE [ANNO III]<br> &gt; LINGUA E LETTERATURA ITALIANA [ANNO IV]<br> &gt; TERZA LINGUA STRANIERA (RUSSO) [ANNO V]</td>\n",
       "      <td>&gt; SECONDA LINGUA STRANIERA (TEDESCO) [ANNO III]<br> &gt; SCIENZE E MOTORIE SPORTIVE (ANNO II) [PALESTRA]<br> &gt; PRIMA LINGUA STRANIERA (INGLESE) [ANNO V]</td>\n",
       "      <td>&gt; SCIENZE E MOTORIE SPORTIVE (ANNO I) [PALESTRA]<br> &gt; FILOSOFIA [ANNO IV]<br> &gt; SECONDA LINGUA STRANIERA (TEDESCO) [ANNO V]</td>\n",
       "      <td>&gt; TERZA LINGUA STRANIERA (RUSSO) [ANNO III]<br> &gt; SECONDA LINGUA STRANIERA (TEDESCO) [ANNO IV]<br> &gt; LINGUA E LETTERATURA ITALIANA [ANNO V]</td>\n",
       "      <td>&gt; STORIA DELL'ARTE [ANNO III]<br> &gt; SECONDA LINGUA STRANIERA (TEDESCO) [ANNO IV]<br> &gt; FISICA [ANNO V]</td>\n",
       "      <td>&gt; PRIMA LINGUA STRANIERA (INGLESE) [ANNO III]<br> &gt; SECONDA LINGUA STRANIERA (TEDESCO) [ANNO IV]<br> &gt; FILOSOFIA [ANNO V]</td>\n",
       "    </tr>\n",
       "    <tr>\n",
       "      <th>10:00-11:00</th>\n",
       "      <td>&gt; LINGUA E LETTERATURA ITALIANA [ANNO III]<br> &gt; FISICA [ANNO IV]<br> &gt; TERZA LINGUA STRANIERA (RUSSO) [ANNO V]</td>\n",
       "      <td>&gt; SECONDA LINGUA STRANIERA (TEDESCO) [ANNO III]<br> &gt; SCIENZE E MOTORIE SPORTIVE (ANNO II) [PALESTRA]<br> &gt; PRIMA LINGUA STRANIERA (INGLESE) [ANNO V]</td>\n",
       "      <td>&gt; SCIENZE E MOTORIE SPORTIVE (ANNO I) [PALESTRA]<br> &gt; FISICA [ANNO IV]<br> &gt; SECONDA LINGUA STRANIERA (TEDESCO) [ANNO V]</td>\n",
       "      <td>&gt; TERZA LINGUA STRANIERA (RUSSO) [ANNO III]<br> &gt; MATEMATICA [ANNO IV]<br> &gt; LINGUA E LETTERATURA ITALIANA [ANNO V]</td>\n",
       "      <td>&gt; SECONDA LINGUA STRANIERA (TEDESCO) [ANNO III]<br> &gt; LINGUA E LETTERATURA ITALIANA [ANNO IV]<br> &gt; MATEMATICA [ANNO V]</td>\n",
       "      <td>&gt; PRIMA LINGUA STRANIERA (INGLESE) [ANNO III]<br> &gt; SECONDA LINGUA STRANIERA (TEDESCO) [ANNO IV]<br> &gt; SCIENZE NATURALI [ANNO V]</td>\n",
       "    </tr>\n",
       "    <tr>\n",
       "      <th>11:00-12:00</th>\n",
       "      <td>&gt; LINGUA E LETTERATURA ITALIANA [ANNO III]<br> &gt; TERZA LINGUA STRANIERA (RUSSO) [ANNO IV]<br> &gt; STORIA [ANNO V]</td>\n",
       "      <td>&gt; STORIA [ANNO III]<br> &gt; PRIMA LINGUA STRANIERA (INGLESE) [ANNO IV]<br> &gt; SCIENZE E MOTORIE SPORTIVE (ANNO III) [PALESTRA]</td>\n",
       "      <td>&gt; LINGUA E LETTERATURA ITALIANA [ANNO III]<br> &gt; MATEMATICA [ANNO IV]<br> &gt; SECONDA LINGUA STRANIERA (TEDESCO) [ANNO V]</td>\n",
       "      <td>&gt; FISICA [ANNO III]<br> &gt; STORIA [ANNO IV]<br> &gt; RELIGIONE CATTOCIA O ATTIVITA' ALTERNATIVE [ANNO V]</td>\n",
       "      <td>&gt; MATEMATICA [ANNO III]<br> &gt; LINGUA E LETTERATURA ITALIANA [ANNO IV]<br> &gt; TERZA LINGUA STRANIERA (RUSSO) [ANNO V]</td>\n",
       "      <td>&gt; TERZA LINGUA STRANIERA (RUSSO) [ANNO III]<br> &gt; STORIA DELL'ARTE [ANNO IV]<br> &gt; FISICA [ANNO V]</td>\n",
       "    </tr>\n",
       "    <tr>\n",
       "      <th>12:00-13:00</th>\n",
       "      <td>&gt; SECONDA LINGUA STRANIERA (TEDESCO) [ANNO III]<br> &gt; TERZA LINGUA STRANIERA (RUSSO) [ANNO IV]<br> &gt; STORIA [ANNO V]</td>\n",
       "      <td>&gt; STORIA [ANNO III]<br> &gt; PRIMA LINGUA STRANIERA (INGLESE) [ANNO IV]<br> &gt; SCIENZE E MOTORIE SPORTIVE (ANNO III) [PALESTRA]</td>\n",
       "      <td>&gt; LINGUA E LETTERATURA ITALIANA [ANNO III]<br> &gt; FILOSOFIA [ANNO IV]<br> &gt; STORIA DELL'ARTE [ANNO V]</td>\n",
       "      <td>&gt; SCIENZE NATURALI [ANNO III]<br> &gt; TERZA LINGUA STRANIERA (RUSSO) [ANNO IV]<br> &gt; FILOSOFIA [ANNO V]</td>\n",
       "      <td>&gt; MATEMATICA [ANNO III]<br> &gt; STORIA [ANNO IV]<br> &gt; SCIENZE NATURALI [ANNO V]</td>\n",
       "      <td>&gt; PRIMA LINGUA STRANIERA (INGLESE) [ANNO III]<br> &gt; SCIENZE NATURALI [ANNO IV]<br> &gt; STORIA DELL'ARTE [ANNO V]</td>\n",
       "    </tr>\n",
       "  </tbody>\n",
       "</table>"
      ],
      "text/plain": [
       "<IPython.core.display.HTML object>"
      ]
     },
     "metadata": {},
     "output_type": "display_data"
    }
   ],
   "source": [
    "from IPython.display import display, HTML \n",
    "display(HTML(df.T.to_html().replace(\"\\\\n\", \"<br>\")))"
   ]
  },
  {
   "cell_type": "code",
   "execution_count": 33,
   "id": "798ee92f",
   "metadata": {},
   "outputs": [],
   "source": [
    "liceo_timetable.end()"
   ]
  },
  {
   "cell_type": "markdown",
   "id": "cef9987d",
   "metadata": {},
   "source": [
    "Fine della demo"
   ]
  },
  {
   "cell_type": "markdown",
   "id": "2809e525",
   "metadata": {},
   "source": []
  }
 ],
 "metadata": {
  "kernelspec": {
   "display_name": "base",
   "language": "python",
   "name": "python3"
  },
  "language_info": {
   "codemirror_mode": {
    "name": "ipython",
    "version": 3
   },
   "file_extension": ".py",
   "mimetype": "text/x-python",
   "name": "python",
   "nbconvert_exporter": "python",
   "pygments_lexer": "ipython3",
   "version": "3.12.7"
  }
 },
 "nbformat": 4,
 "nbformat_minor": 5
}
