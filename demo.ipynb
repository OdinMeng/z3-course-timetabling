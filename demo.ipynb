{
 "cells": [
  {
   "cell_type": "markdown",
   "id": "84f8905a",
   "metadata": {},
   "source": [
    "# Z3 Solver Project Demo\n",
    "Presentation purposes\n",
    "\n",
    "*Svolto per la presentazione del progetto all'orale*"
   ]
  },
  {
   "cell_type": "code",
   "execution_count": 1,
   "id": "ea895ad5",
   "metadata": {},
   "outputs": [],
   "source": [
    "import pandas as pd \n",
    "import numpy as np \n",
    "import itertools \n",
    "from model import TimetableScheduler"
   ]
  },
  {
   "cell_type": "markdown",
   "id": "8444e593",
   "metadata": {},
   "source": [
    "## Scenario 1: Toy Model\n",
    "Simple model containing just a few sessions and courses, not intended to be realistic in any way\n",
    "\n",
    "*Modello semplice che contiene qualche sessione e corsi, inteso solo per motivi di testing*"
   ]
  },
  {
   "cell_type": "code",
   "execution_count": 2,
   "id": "c760bfb6",
   "metadata": {},
   "outputs": [],
   "source": [
    "toy_schedule = TimetableScheduler('sample_1', 8)"
   ]
  },
  {
   "cell_type": "code",
   "execution_count": 3,
   "id": "5a24d1f4",
   "metadata": {},
   "outputs": [],
   "source": [
    "toy_schedule.start()"
   ]
  },
  {
   "cell_type": "code",
   "execution_count": null,
   "id": "8f74cbee",
   "metadata": {},
   "outputs": [],
   "source": [
    "toy_schedule.add_constraints()"
   ]
  },
  {
   "cell_type": "code",
   "execution_count": null,
   "id": "028e639f",
   "metadata": {},
   "outputs": [
    {
     "name": "stdout",
     "output_type": "stream",
     "text": [
      "TIME TABLE SUCCESSFULLY CREATED\n"
     ]
    }
   ],
   "source": [
    "toy_schedule.solve()"
   ]
  },
  {
   "cell_type": "code",
   "execution_count": 65,
   "id": "35acd888",
   "metadata": {},
   "outputs": [],
   "source": [
    "timetable = []"
   ]
  },
  {
   "cell_type": "code",
   "execution_count": 66,
   "id": "1036ab11",
   "metadata": {},
   "outputs": [],
   "source": [
    "names = toy_schedule.database.get_names()"
   ]
  },
  {
   "cell_type": "code",
   "execution_count": 67,
   "id": "0d88dc4c",
   "metadata": {},
   "outputs": [],
   "source": [
    "# stampa l'orario per AIDA\n",
    "\n",
    "for t in toy_schedule.T:\n",
    "    t_slots = []\n",
    "\n",
    "    for (S, A) in itertools.product(toy_schedule.indexes['Sessions'], toy_schedule.indexes['Rooms']):\n",
    "        S_c = toy_schedule.database.get_course(S)\n",
    "        if toy_schedule.model.evaluate(toy_schedule.X[S,t,A], model_completion=True):\n",
    "            t_slots.append(f\"{names['Courses'][toy_schedule.database.get_course(S)]} [{names['Rooms'][A]}]\")\n",
    "                \n",
    "    if t_slots == []:\n",
    "        t_slots = [\"NESSUNA LEZIONE\"]\n",
    "    timetable.append(\"\\n\".join(t_slots))"
   ]
  },
  {
   "cell_type": "code",
   "execution_count": 68,
   "id": "4b78d43a",
   "metadata": {},
   "outputs": [],
   "source": [
    "rows = [\"08:00-09:00\",\"09:00-10:00\",\"10:00-11:00\",\"11:00-12:00\",\"12:00-13:00\",\"13:00-14:00\",\"14:00-15:00\",\"15:00-16:00\"]\n",
    "columns = [\"Lunedì\", \"Martedì\", \"Mercoledì\", \"Giovedì\", \"Venerdì\", \"Sabato\"]"
   ]
  },
  {
   "cell_type": "code",
   "execution_count": 69,
   "id": "1aba44c0",
   "metadata": {},
   "outputs": [],
   "source": [
    "np_timetable = np.array(timetable, dtype=object)\n",
    "np_timetable = np_timetable.reshape(6,8)"
   ]
  },
  {
   "cell_type": "code",
   "execution_count": 70,
   "id": "0ef3e37b",
   "metadata": {},
   "outputs": [],
   "source": [
    "df = pd.DataFrame(np_timetable, columns=rows, index=columns)"
   ]
  },
  {
   "cell_type": "code",
   "execution_count": 72,
   "id": "934888fc",
   "metadata": {},
   "outputs": [
    {
     "data": {
      "text/html": [
       "<table border=\"1\" class=\"dataframe\">\n",
       "  <thead>\n",
       "    <tr style=\"text-align: right;\">\n",
       "      <th></th>\n",
       "      <th>Lunedì</th>\n",
       "      <th>Martedì</th>\n",
       "      <th>Mercoledì</th>\n",
       "      <th>Giovedì</th>\n",
       "      <th>Venerdì</th>\n",
       "      <th>Sabato</th>\n",
       "    </tr>\n",
       "  </thead>\n",
       "  <tbody>\n",
       "    <tr>\n",
       "      <th>08:00-09:00</th>\n",
       "      <td>NESSUNA LEZIONE</td>\n",
       "      <td>PROGRAMMAZIONE [Aula Ciamician]</td>\n",
       "      <td>ANALISI 2 [Aula Morin 3]</td>\n",
       "      <td>ANALISI 2 [Aula Magna H3]</td>\n",
       "      <td>ANALISI 1 [Aula Ciamician]</td>\n",
       "      <td>ANALISI 1 [Aula Ciamician]</td>\n",
       "    </tr>\n",
       "    <tr>\n",
       "      <th>09:00-10:00</th>\n",
       "      <td>SISTEMI OPERATIVI [Aula Ciamician]<br>GEOMETRIA [Aula Morin]</td>\n",
       "      <td>PROGRAMMAZIONE [Aula Ciamician]</td>\n",
       "      <td>PROGRAMMAZIONE [Aula Ciamician]<br>ANALISI 2 [Aula Morin 3]</td>\n",
       "      <td>ANALISI 2 [Aula Magna H3]</td>\n",
       "      <td>ANALISI 1 [Aula Ciamician]</td>\n",
       "      <td>ANALISI 1 [Aula Ciamician]</td>\n",
       "    </tr>\n",
       "    <tr>\n",
       "      <th>10:00-11:00</th>\n",
       "      <td>SISTEMI OPERATIVI [Aula Ciamician]<br>GEOMETRIA [Aula Morin]</td>\n",
       "      <td>PROGRAMMAZIONE [Aula Ciamician]</td>\n",
       "      <td>PROGRAMMAZIONE [Aula Ciamician]<br>ANALISI 2 [Aula Morin 3]</td>\n",
       "      <td>ANALISI 2 [Aula Magna H3]</td>\n",
       "      <td>NESSUNA LEZIONE</td>\n",
       "      <td>ANALISI 1 [Aula Ciamician]</td>\n",
       "    </tr>\n",
       "    <tr>\n",
       "      <th>11:00-12:00</th>\n",
       "      <td>NESSUNA LEZIONE</td>\n",
       "      <td>PROGRAMMAZIONE [Aula Ciamician]</td>\n",
       "      <td>PROGRAMMAZIONE [Aula Ciamician]</td>\n",
       "      <td>NESSUNA LEZIONE</td>\n",
       "      <td>NESSUNA LEZIONE</td>\n",
       "      <td>SISTEMI OPERATIVI [Aula Morin 5]<br>ANALISI 2 [Aula Magna H3]</td>\n",
       "    </tr>\n",
       "    <tr>\n",
       "      <th>12:00-13:00</th>\n",
       "      <td>NESSUNA LEZIONE</td>\n",
       "      <td>GEOMETRIA [Aula Morin 6]</td>\n",
       "      <td>ANALISI 1 [Aula Ciamician]</td>\n",
       "      <td>NESSUNA LEZIONE</td>\n",
       "      <td>NESSUNA LEZIONE</td>\n",
       "      <td>SISTEMI OPERATIVI [Aula Morin 5]<br>ANALISI 2 [Aula Magna H3]</td>\n",
       "    </tr>\n",
       "    <tr>\n",
       "      <th>13:00-14:00</th>\n",
       "      <td>NESSUNA LEZIONE</td>\n",
       "      <td>SISTEMI OPERATIVI [Aula Morin 5]<br>GEOMETRIA [Aula Morin 6]</td>\n",
       "      <td>ANALISI 1 [Aula Ciamician]</td>\n",
       "      <td>NESSUNA LEZIONE</td>\n",
       "      <td>NESSUNA LEZIONE</td>\n",
       "      <td>SISTEMI OPERATIVI [Aula Morin]<br>ANALISI 2 [Aula Magna H3]</td>\n",
       "    </tr>\n",
       "    <tr>\n",
       "      <th>14:00-15:00</th>\n",
       "      <td>NESSUNA LEZIONE</td>\n",
       "      <td>SISTEMI OPERATIVI [Aula Morin 5]<br>GEOMETRIA [Aula Morin 6]</td>\n",
       "      <td>ANALISI 1 [Aula Ciamician]</td>\n",
       "      <td>NESSUNA LEZIONE</td>\n",
       "      <td>NESSUNA LEZIONE</td>\n",
       "      <td>SISTEMI OPERATIVI [Aula Morin]</td>\n",
       "    </tr>\n",
       "    <tr>\n",
       "      <th>15:00-16:00</th>\n",
       "      <td>NESSUNA LEZIONE</td>\n",
       "      <td>NESSUNA LEZIONE</td>\n",
       "      <td>NESSUNA LEZIONE</td>\n",
       "      <td>NESSUNA LEZIONE</td>\n",
       "      <td>NESSUNA LEZIONE</td>\n",
       "      <td>NESSUNA LEZIONE</td>\n",
       "    </tr>\n",
       "  </tbody>\n",
       "</table>"
      ],
      "text/plain": [
       "<IPython.core.display.HTML object>"
      ]
     },
     "metadata": {},
     "output_type": "display_data"
    }
   ],
   "source": [
    "from IPython.display import display, HTML # per fare una presentazione grafica decente\n",
    "display(HTML(df.T.to_html().replace(\"\\\\n\", \"<br>\")))"
   ]
  },
  {
   "cell_type": "markdown",
   "id": "d2d809ce",
   "metadata": {},
   "source": [
    "## Scenario 2: Next Semester's Courses for AIDA\n",
    "Simplified model containing (estimated) sessions and courses for the next semester in AIDA.\n",
    "\n",
    "*Modello semplificato che contiene i corsi del prossimo semestre del CdS triennale in IADA (2025-2026, Primo Semestre)*"
   ]
  },
  {
   "cell_type": "markdown",
   "id": "48013616",
   "metadata": {},
   "source": [
    "Vincolo aggiuntivo: Non ci sono lezioni il sabato\n",
    "$$\n",
    "\\forall S, T, A, \\text{ s.t. }T\\text{ rappresenta un'ora in sabato }(\\lfloor T/6 \\rfloor = 6), X_{S,T,A} \\implies \\text{False}\n",
    "$$"
   ]
  },
  {
   "cell_type": "code",
   "execution_count": 73,
   "id": "8a845eb4",
   "metadata": {},
   "outputs": [],
   "source": [
    "orario_aida = TimetableScheduler('aida', 9)"
   ]
  },
  {
   "cell_type": "code",
   "execution_count": 74,
   "id": "ad363c9c",
   "metadata": {},
   "outputs": [],
   "source": [
    "orario_aida.start()"
   ]
  },
  {
   "cell_type": "code",
   "execution_count": 75,
   "id": "7c913796",
   "metadata": {},
   "outputs": [],
   "source": [
    "from z3 import Not"
   ]
  },
  {
   "cell_type": "code",
   "execution_count": 76,
   "id": "f4581aa4",
   "metadata": {},
   "outputs": [],
   "source": [
    "# add custom constraint\n",
    "for (S,T,A) in itertools.product(orario_aida.indexes['Sessions'],\n",
    "                                 orario_aida.T,\n",
    "                                 orario_aida.indexes['Rooms']):\n",
    "    if (T // 9) == (6-1):\n",
    "        orario_aida.solver.add(Not(orario_aida.X[S,T,A]))\n"
   ]
  },
  {
   "cell_type": "code",
   "execution_count": 77,
   "id": "95dbc601",
   "metadata": {},
   "outputs": [],
   "source": [
    "from z3 import Then, sat\n",
    "\n",
    "Then('simplify', 'propagate-values', 'solve-eqs', 'smt')\n",
    "sat.local_search = True"
   ]
  },
  {
   "cell_type": "code",
   "execution_count": 78,
   "id": "1c0010b3",
   "metadata": {},
   "outputs": [
    {
     "name": "stdout",
     "output_type": "stream",
     "text": [
      "TIME TABLE SUCCESSFULLY CREATED\n"
     ]
    }
   ],
   "source": [
    "orario_aida.add_constraints()\n",
    "orario_aida.solve()"
   ]
  },
  {
   "cell_type": "code",
   "execution_count": 133,
   "id": "91c1a07b",
   "metadata": {},
   "outputs": [],
   "source": [
    "# stampa l'orario per AIDA\n",
    "names = orario_aida.database.get_names()\n",
    "aida_timeslots = []\n",
    "\n",
    "for t in orario_aida.T:\n",
    "    t_slots = []\n",
    "\n",
    "    for (S, A) in itertools.product(orario_aida.indexes['Sessions'], orario_aida.indexes['Rooms']):\n",
    "        S_c = orario_aida.database.get_course(S)\n",
    "        if orario_aida.model.evaluate(orario_aida.X[S,t,A], model_completion=True):\n",
    "            t_slots.append(f\"{names['Courses'][orario_aida.database.get_course(S)]} [{names['Rooms'][A]}]\")\n",
    "                \n",
    "    if t_slots == []:\n",
    "        t_slots = ['NESSUNA LEZIONE']\n",
    "    aida_timeslots.append(\" > \" + \"\\n > \".join(t_slots))"
   ]
  },
  {
   "cell_type": "code",
   "execution_count": 134,
   "id": "f9f1f04e",
   "metadata": {},
   "outputs": [],
   "source": [
    "rows = [\"09:00-10:00\",\"10:00-11:00\",\"11:00-12:00\",\"12:00-13:00\",\"13:00-14:00\",\"14:00-15:00\",\"15:00-16:00\",\"16:00-17:00\",\"17:00-18:00\"]\n",
    "columns = [\"Lunedì\", \"Martedì\", \"Mercoledì\", \"Giovedì\", \"Venerdì\", \"Sabato\"]\n",
    "\n",
    "np_aida_timetable = np.array(aida_timeslots, dtype=object)\n",
    "np_aida_timetable = np_aida_timetable.reshape(6,9)\n",
    "df = pd.DataFrame(np_aida_timetable, columns=rows, index=columns)"
   ]
  },
  {
   "cell_type": "code",
   "execution_count": 135,
   "id": "aae657c2",
   "metadata": {},
   "outputs": [
    {
     "data": {
      "text/html": [
       "<table border=\"1\" class=\"dataframe\">\n",
       "  <thead>\n",
       "    <tr style=\"text-align: right;\">\n",
       "      <th></th>\n",
       "      <th>Lunedì</th>\n",
       "      <th>Martedì</th>\n",
       "      <th>Mercoledì</th>\n",
       "      <th>Giovedì</th>\n",
       "      <th>Venerdì</th>\n",
       "      <th>Sabato</th>\n",
       "    </tr>\n",
       "  </thead>\n",
       "  <tbody>\n",
       "    <tr>\n",
       "      <th>09:00-10:00</th>\n",
       "      <td>&gt; INTRODUZIONE ALLA PROGRAMMAZIONE E LABORATORIO [H3, 2B]<br> &gt; ALGORITMI E STRUTTURE DATI [H2 Bis, 3B]<br> &gt; SISTEMI COMPLESSI [H2 Bis, 2A MORIN]</td>\n",
       "      <td>&gt; ANALISI 1 [H2 Bis, 2A MORIN]<br> &gt; PROGRAMMAZIONE AVANZATA E PARALLELA [H3, 2B]</td>\n",
       "      <td>&gt; INTRODUZIONE ALLA PROGRAMMAZIONE E LABORATORIO [H3, 1A]</td>\n",
       "      <td>&gt; INTRODUZIONE ALLA PROGRAMMAZIONE E LABORATORIO [H3, 2B]</td>\n",
       "      <td>&gt; ANALISI 1 [H3, 1B]<br> &gt; INFERENZA STATISTICA [H2 Bis, 3B]</td>\n",
       "      <td>&gt; NESSUNA LEZIONE</td>\n",
       "    </tr>\n",
       "    <tr>\n",
       "      <th>10:00-11:00</th>\n",
       "      <td>&gt; INTRODUZIONE ALLA PROGRAMMAZIONE E LABORATORIO [H3, 2B]<br> &gt; ALGORITMI E STRUTTURE DATI [H2 Bis, 3B]<br> &gt; SISTEMI COMPLESSI [H2 Bis, 2A MORIN]</td>\n",
       "      <td>&gt; ANALISI 1 [H2 Bis, 2A MORIN]<br> &gt; PROGRAMMAZIONE AVANZATA E PARALLELA [H3, 2B]</td>\n",
       "      <td>&gt; INTRODUZIONE ALLA PROGRAMMAZIONE E LABORATORIO [H3, 1A]</td>\n",
       "      <td>&gt; INTRODUZIONE ALLA PROGRAMMAZIONE E LABORATORIO [H3, 2B]</td>\n",
       "      <td>&gt; ANALISI 1 [H3, 1B]<br> &gt; INFERENZA STATISTICA [H2 Bis, 3B]</td>\n",
       "      <td>&gt; NESSUNA LEZIONE</td>\n",
       "    </tr>\n",
       "    <tr>\n",
       "      <th>11:00-12:00</th>\n",
       "      <td>&gt; INTRODUZIONE ALLA PROGRAMMAZIONE E LABORATORIO [H3, 2B]<br> &gt; ALGORITMI E STRUTTURE DATI [H3, 2A]<br> &gt; SISTEMI COMPLESSI [H2 Bis, 2A MORIN]</td>\n",
       "      <td>&gt; ALGEBRA LINEARE ED ELEMENTI DI GEOMETRIA [H2 Bis, 2A MORIN]<br> &gt; INFERENZA STATISTICA [H3, 1C]<br> &gt; INTRODUZIONE AL MACHINE LEARNING [H2 Bis, 3B]</td>\n",
       "      <td>&gt; INTRODUZIONE ALLA PROGRAMMAZIONE E LABORATORIO [H3, 1A]</td>\n",
       "      <td>&gt; ARCHITETTURE DEGLI ELABORATORI [H3, 2B]</td>\n",
       "      <td>&gt; NESSUNA LEZIONE</td>\n",
       "      <td>&gt; NESSUNA LEZIONE</td>\n",
       "    </tr>\n",
       "    <tr>\n",
       "      <th>12:00-13:00</th>\n",
       "      <td>&gt; INTRODUZIONE ALLA PROGRAMMAZIONE E LABORATORIO [H3, 2B]<br> &gt; ALGORITMI E STRUTTURE DATI [H3, 2A]</td>\n",
       "      <td>&gt; ALGEBRA LINEARE ED ELEMENTI DI GEOMETRIA [H2 Bis, 2A MORIN]<br> &gt; INFERENZA STATISTICA [H3, 1C]<br> &gt; INTRODUZIONE AL MACHINE LEARNING [H2 Bis, 3B]</td>\n",
       "      <td>&gt; INTRODUZIONE ALL INTELLIGENZA ARTIFICIALE [H3, 2A]</td>\n",
       "      <td>&gt; ARCHITETTURE DEGLI ELABORATORI [H3, 2B]<br> &gt; INFERENZA STATISTICA [H3, 2C]<br> &gt; INTRODUZIONE AL MACHINE LEARNING [H2 Bis, 2A MORIN]</td>\n",
       "      <td>&gt; COMPUTABILITà, COMPLESSITà E LOGICA [H2 Bis, 3B]</td>\n",
       "      <td>&gt; NESSUNA LEZIONE</td>\n",
       "    </tr>\n",
       "    <tr>\n",
       "      <th>13:00-14:00</th>\n",
       "      <td>&gt; PROGRAMMAZIONE AVANZATA E PARALLELA [H3, 2A]</td>\n",
       "      <td>&gt; INTRODUZIONE ALL INTELLIGENZA ARTIFICIALE [H2 Bis, 4C]</td>\n",
       "      <td>&gt; ALGEBRA LINEARE ED ELEMENTI DI GEOMETRIA [H2 Bis, 2A MORIN]<br> &gt; ALGORITMI E STRUTTURE DATI [H3, 2B]<br> &gt; INTRODUZIONE ALL INTELLIGENZA ARTIFICIALE [H3, 2A]</td>\n",
       "      <td>&gt; ARCHITETTURE DEGLI ELABORATORI [H3, 2B]<br> &gt; INFERENZA STATISTICA [H3, 2C]<br> &gt; INTRODUZIONE AL MACHINE LEARNING [H2 Bis, 2A MORIN]</td>\n",
       "      <td>&gt; COMPUTABILITà, COMPLESSITà E LOGICA [H2 Bis, 3B]</td>\n",
       "      <td>&gt; NESSUNA LEZIONE</td>\n",
       "    </tr>\n",
       "    <tr>\n",
       "      <th>14:00-15:00</th>\n",
       "      <td>&gt; PROGRAMMAZIONE AVANZATA E PARALLELA [H3, 2A]</td>\n",
       "      <td>&gt; INTRODUZIONE ALL INTELLIGENZA ARTIFICIALE [H2 Bis, 4C]</td>\n",
       "      <td>&gt; ALGEBRA LINEARE ED ELEMENTI DI GEOMETRIA [H2 Bis, 2A MORIN]<br> &gt; ALGORITMI E STRUTTURE DATI [H3, 2B]<br> &gt; INTRODUZIONE ALL INTELLIGENZA ARTIFICIALE [H3, 2A]</td>\n",
       "      <td>&gt; INTRODUZIONE ALLA PROGRAMMAZIONE E LABORATORIO [H3, 1B]<br> &gt; COMPUTABILITà, COMPLESSITà E LOGICA [H2 Bis, 2A MORIN]<br> &gt; INTRODUZIONE AL MACHINE LEARNING [H3, 1A]</td>\n",
       "      <td>&gt; ALGEBRA LINEARE ED ELEMENTI DI GEOMETRIA [H3, 2A]</td>\n",
       "      <td>&gt; NESSUNA LEZIONE</td>\n",
       "    </tr>\n",
       "    <tr>\n",
       "      <th>15:00-16:00</th>\n",
       "      <td>&gt; ANALISI 1 [H2 Bis, 2A MORIN]<br> &gt; INTRODUZIONE ALL INTELLIGENZA ARTIFICIALE [H2 Bis, 5C]</td>\n",
       "      <td>&gt; COMPUTABILITà, COMPLESSITà E LOGICA [H3, 1C]<br> &gt; SISTEMI COMPLESSI [H3, 1A]</td>\n",
       "      <td>&gt; NESSUNA LEZIONE</td>\n",
       "      <td>&gt; INTRODUZIONE ALLA PROGRAMMAZIONE E LABORATORIO [H3, 1B]<br> &gt; COMPUTABILITà, COMPLESSITà E LOGICA [H2 Bis, 2A MORIN]<br> &gt; INTRODUZIONE AL MACHINE LEARNING [H3, 1A]</td>\n",
       "      <td>&gt; ALGEBRA LINEARE ED ELEMENTI DI GEOMETRIA [H3, 2A]<br> &gt; PROGRAMMAZIONE AVANZATA E PARALLELA [H2 Bis, 2A MORIN]</td>\n",
       "      <td>&gt; NESSUNA LEZIONE</td>\n",
       "    </tr>\n",
       "    <tr>\n",
       "      <th>16:00-17:00</th>\n",
       "      <td>&gt; ANALISI 1 [H2 Bis, 2A MORIN]<br> &gt; INTRODUZIONE ALL INTELLIGENZA ARTIFICIALE [H2 Bis, 5C]</td>\n",
       "      <td>&gt; COMPUTABILITà, COMPLESSITà E LOGICA [H3, 1C]<br> &gt; SISTEMI COMPLESSI [H3, 1A]</td>\n",
       "      <td>&gt; NESSUNA LEZIONE</td>\n",
       "      <td>&gt; INTRODUZIONE ALLA PROGRAMMAZIONE E LABORATORIO [H3, 1B]</td>\n",
       "      <td>&gt; PROGRAMMAZIONE AVANZATA E PARALLELA [H2 Bis, 2A MORIN]</td>\n",
       "      <td>&gt; NESSUNA LEZIONE</td>\n",
       "    </tr>\n",
       "    <tr>\n",
       "      <th>17:00-18:00</th>\n",
       "      <td>&gt; NESSUNA LEZIONE</td>\n",
       "      <td>&gt; NESSUNA LEZIONE</td>\n",
       "      <td>&gt; NESSUNA LEZIONE</td>\n",
       "      <td>&gt; NESSUNA LEZIONE</td>\n",
       "      <td>&gt; NESSUNA LEZIONE</td>\n",
       "      <td>&gt; NESSUNA LEZIONE</td>\n",
       "    </tr>\n",
       "  </tbody>\n",
       "</table>"
      ],
      "text/plain": [
       "<IPython.core.display.HTML object>"
      ]
     },
     "metadata": {},
     "output_type": "display_data"
    }
   ],
   "source": [
    "display(HTML(df.T.to_html().replace(\"\\\\n\", \"<br>\")))"
   ]
  },
  {
   "cell_type": "code",
   "execution_count": 136,
   "id": "9e84c118",
   "metadata": {},
   "outputs": [],
   "source": [
    "df.to_excel(\"./timetables/aida.xlsx\")"
   ]
  },
  {
   "cell_type": "markdown",
   "id": "ab10e2fb",
   "metadata": {},
   "source": [
    "## Scenario 3: High School Timetable\n",
    "Model creating a time table for the lessons of a class in high school, the last 3 years\n",
    "\n",
    "*Modello che crea un orario settimanale per le lezioni del trienno di un liceo linguistico, solo per una classe (per semplicità assumiamo che tutti i professori siano assegnati ad una e sola classe)*"
   ]
  }
 ],
 "metadata": {
  "kernelspec": {
   "display_name": "base",
   "language": "python",
   "name": "python3"
  },
  "language_info": {
   "codemirror_mode": {
    "name": "ipython",
    "version": 3
   },
   "file_extension": ".py",
   "mimetype": "text/x-python",
   "name": "python",
   "nbconvert_exporter": "python",
   "pygments_lexer": "ipython3",
   "version": "3.12.7"
  }
 },
 "nbformat": 4,
 "nbformat_minor": 5
}
