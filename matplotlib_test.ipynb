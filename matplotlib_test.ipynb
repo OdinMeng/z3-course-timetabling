{
 "cells": [
  {
   "cell_type": "code",
   "execution_count": null,
   "id": "9152c88b",
   "metadata": {},
   "outputs": [],
   "source": [
    "import matplotlib.pyplot as plt\n",
    "import numpy as np"
   ]
  },
  {
   "cell_type": "code",
   "execution_count": 23,
   "id": "62f0c5d3",
   "metadata": {},
   "outputs": [
    {
     "data": {
      "image/png": "[encoded data removed]",
      "text/plain": [
       "<Figure size 1000x320 with 1 Axes>"
      ]
     },
     "metadata": {},
     "output_type": "display_data"
    }
   ],
   "source": [
    "def crossword(cats, dt, s=900, reverse=False, start=0, all_x=True, ax=None):\n",
    "    from matplotlib.pyplot import subplot\n",
    "    ax =ax if ax else subplot()\n",
    "\n",
    "    # copy input, possibly mutable, length of data, count categories\n",
    "    data = cats[:]\n",
    "    l = len(data) ; n = len(set(data))\n",
    "    # we plot the marker in the centre of its cell\n",
    "    t = [start+dt/2+dt*i for i in range(l)]\n",
    "    # data and times are sorted, so that MPL does the \"right thing\"\n",
    "    data, t = zip(*sorted(zip(data,t), reverse=reverse))\n",
    "    # plot the data\n",
    "    ax.scatter(t, data, marker=\"s\", s=s)\n",
    "    if all_x:\n",
    "        ax.set_xticks([start+dt*i for i in range(l+1)])\n",
    "    else:\n",
    "        pass\n",
    "    # trim the axes\n",
    "    ax.set_xlim((start, start+dt*l))\n",
    "    ax.set_ylim((-0.5, n-0.5))\n",
    "    # draw the grid \"manually\" because on y is off the yticks,\n",
    "    #                                  on x is denser than the xticks\n",
    "    for i in range(n): ax.axhline(0.5+i, lw=0.5, color='k')\n",
    "    for i in range(1,l): ax.axvline(start+dt*i, lw=-.5, color='k')\n",
    "    # we want the squarish cells to be really square\n",
    "    ax.set_aspect(dt)\n",
    "    return ax\n",
    "\n",
    "from matplotlib.pyplot import subplots, show\n",
    "fig, ax = subplots(figsize=(10,3.2), layout='constrained')\n",
    "crossword('aaccbcadda', 0.1, ax=ax, s=1296, reverse=1, all_x=0)\n",
    "show()"
   ]
  },
  {
   "cell_type": "code",
   "execution_count": null,
   "id": "d75c0451",
   "metadata": {},
   "outputs": [],
   "source": []
  }
 ],
 "metadata": {
  "kernelspec": {
   "display_name": "base",
   "language": "python",
   "name": "python3"
  },
  "language_info": {
   "codemirror_mode": {
    "name": "ipython",
    "version": 3
   },
   "file_extension": ".py",
   "mimetype": "text/x-python",
   "name": "python",
   "nbconvert_exporter": "python",
   "pygments_lexer": "ipython3",
   "version": "3.12.7"
  }
 },
 "nbformat": 4,
 "nbformat_minor": 5
}
