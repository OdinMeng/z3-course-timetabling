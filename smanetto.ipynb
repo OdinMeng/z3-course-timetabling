{
 "cells": [
  {
   "cell_type": "code",
   "execution_count": 1,
   "id": "89e577c9",
   "metadata": {},
   "outputs": [],
   "source": [
    "from z3 import *"
   ]
  },
  {
   "cell_type": "code",
   "execution_count": 2,
   "id": "90861f00",
   "metadata": {},
   "outputs": [],
   "source": [
    "X, Y = Bools('a x')"
   ]
  },
  {
   "cell_type": "code",
   "execution_count": 3,
   "id": "1ac7387c",
   "metadata": {},
   "outputs": [],
   "source": [
    "s = Solver()"
   ]
  },
  {
   "cell_type": "code",
   "execution_count": 4,
   "id": "c29a6acd",
   "metadata": {},
   "outputs": [],
   "source": [
    "s.add(Or([X,Y]))"
   ]
  },
  {
   "cell_type": "code",
   "execution_count": 5,
   "id": "45b97851",
   "metadata": {},
   "outputs": [
    {
     "data": {
      "text/html": [
       "<b>sat</b>"
      ],
      "text/plain": [
       "sat"
      ]
     },
     "execution_count": 5,
     "metadata": {},
     "output_type": "execute_result"
    }
   ],
   "source": [
    "s.check()"
   ]
  },
  {
   "cell_type": "code",
   "execution_count": 6,
   "id": "d234cd2b",
   "metadata": {},
   "outputs": [
    {
     "data": {
      "text/html": [
       "[a = True, x = False]"
      ],
      "text/plain": [
       "[a = True, x = False]"
      ]
     },
     "execution_count": 6,
     "metadata": {},
     "output_type": "execute_result"
    }
   ],
   "source": [
    "s.model()"
   ]
  },
  {
   "cell_type": "code",
   "execution_count": 4,
   "id": "c8bb166c",
   "metadata": {},
   "outputs": [],
   "source": [
    "s.add(Or(X), Or(Y))"
   ]
  },
  {
   "cell_type": "code",
   "execution_count": 6,
   "id": "2c88c880",
   "metadata": {},
   "outputs": [],
   "source": [
    "s.add(1==1)"
   ]
  },
  {
   "cell_type": "code",
   "execution_count": 7,
   "id": "3bd680df",
   "metadata": {},
   "outputs": [
    {
     "data": {
      "text/html": [
       "<b>sat</b>"
      ],
      "text/plain": [
       "sat"
      ]
     },
     "execution_count": 7,
     "metadata": {},
     "output_type": "execute_result"
    }
   ],
   "source": [
    "s.check()"
   ]
  },
  {
   "cell_type": "code",
   "execution_count": 8,
   "id": "4d474fc6",
   "metadata": {},
   "outputs": [
    {
     "data": {
      "text/html": [
       "[a = True, x = True]"
      ],
      "text/plain": [
       "[a = True, x = True]"
      ]
     },
     "execution_count": 8,
     "metadata": {},
     "output_type": "execute_result"
    }
   ],
   "source": [
    "s.model()"
   ]
  },
  {
   "cell_type": "code",
   "execution_count": 42,
   "id": "5ddd209a",
   "metadata": {},
   "outputs": [
    {
     "name": "stdout",
     "output_type": "stream",
     "text": [
      "\u001b[1;31mSignature:\u001b[0m \u001b[0ms\u001b[0m\u001b[1;33m.\u001b[0m\u001b[0madd\u001b[0m\u001b[1;33m(\u001b[0m\u001b[1;33m*\u001b[0m\u001b[0margs\u001b[0m\u001b[1;33m)\u001b[0m\u001b[1;33m\u001b[0m\u001b[1;33m\u001b[0m\u001b[0m\n",
      "\u001b[1;31mDocstring:\u001b[0m\n",
      "Assert constraints into the solver.\n",
      "\n",
      ">>> x = Int('x')\n",
      ">>> s = Solver()\n",
      ">>> s.add(x > 0, x < 2)\n",
      ">>> s\n",
      "[x > 0, x < 2]\n",
      "\u001b[1;31mFile:\u001b[0m      c:\\users\\acer\\anaconda3\\lib\\site-packages\\z3\\z3.py\n",
      "\u001b[1;31mType:\u001b[0m      method"
     ]
    }
   ],
   "source": [
    "s.add?"
   ]
  },
  {
   "cell_type": "code",
   "execution_count": null,
   "id": "49c1c662",
   "metadata": {},
   "outputs": [],
   "source": []
  },
  {
   "cell_type": "code",
   "execution_count": 22,
   "id": "075aab7c",
   "metadata": {},
   "outputs": [],
   "source": [
    "import sqlite3 as sq3"
   ]
  },
  {
   "cell_type": "code",
   "execution_count": 37,
   "id": "00dc363d",
   "metadata": {},
   "outputs": [],
   "source": [
    "con = sq3.connect('./databases/sample_1.db');"
   ]
  },
  {
   "cell_type": "code",
   "execution_count": 38,
   "id": "46425d41",
   "metadata": {},
   "outputs": [],
   "source": [
    "s = con.execute(\"SELECT IDCourse FROM COURSES;\")"
   ]
  },
  {
   "cell_type": "code",
   "execution_count": 39,
   "id": "78d0bc3f",
   "metadata": {},
   "outputs": [
    {
     "data": {
      "text/plain": [
       "[101, 102, 103, 104, 105]"
      ]
     },
     "execution_count": 39,
     "metadata": {},
     "output_type": "execute_result"
    }
   ],
   "source": [
    "[i[0] for i in s.fetchall()] "
   ]
  },
  {
   "cell_type": "code",
   "execution_count": 20,
   "id": "8cfc2b80",
   "metadata": {},
   "outputs": [],
   "source": [
    "con.close()"
   ]
  },
  {
   "cell_type": "code",
   "execution_count": 40,
   "id": "babf0272",
   "metadata": {},
   "outputs": [],
   "source": [
    "from sql_utilities import get_ids"
   ]
  },
  {
   "cell_type": "code",
   "execution_count": 46,
   "id": "f21eb208",
   "metadata": {},
   "outputs": [],
   "source": [
    "dict = get_ids(\"sample_1\")"
   ]
  },
  {
   "cell_type": "code",
   "execution_count": 47,
   "id": "a9960590",
   "metadata": {},
   "outputs": [
    {
     "data": {
      "text/plain": [
       "{'Sessions': [1, 2, 3, 4, 5, 6, 7, 8, 9, 10],\n",
       " 'Courses': [101, 102, 103, 104, 105],\n",
       " 'Professors': [1, 2, 3],\n",
       " 'CdS': [201, 202, 203],\n",
       " 'Rooms': [301, 302, 303, 304, 305, 306, 307, 308]}"
      ]
     },
     "execution_count": 47,
     "metadata": {},
     "output_type": "execute_result"
    }
   ],
   "source": [
    "dict"
   ]
  },
  {
   "cell_type": "code",
   "execution_count": null,
   "id": "e2d6cc42",
   "metadata": {},
   "outputs": [],
   "source": []
  }
 ],
 "metadata": {
  "kernelspec": {
   "display_name": "base",
   "language": "python",
   "name": "python3"
  },
  "language_info": {
   "codemirror_mode": {
    "name": "ipython",
    "version": 3
   },
   "file_extension": ".py",
   "mimetype": "text/x-python",
   "name": "python",
   "nbconvert_exporter": "python",
   "pygments_lexer": "ipython3",
   "version": "3.12.7"
  }
 },
 "nbformat": 4,
 "nbformat_minor": 5
}
