{
 "cells": [
  {
   "cell_type": "markdown",
   "id": "26ab1920",
   "metadata": {},
   "source": [
    "# PROJECT PROTOTYPE"
   ]
  },
  {
   "cell_type": "code",
   "execution_count": 1,
   "id": "1af004b5",
   "metadata": {},
   "outputs": [],
   "source": [
    "import itertools"
   ]
  },
  {
   "cell_type": "code",
   "execution_count": 2,
   "id": "ee5b2b07",
   "metadata": {},
   "outputs": [],
   "source": [
    "timeslots = list(range(10))"
   ]
  },
  {
   "cell_type": "code",
   "execution_count": null,
   "id": "fd341daf",
   "metadata": {},
   "outputs": [],
   "source": [
    "courses = {\n",
    "    'EC01A': {'ore': 2},\n",
    "    'EC01B': {'ore': 3},\n",
    "    'EC01C': {'ore': 2},\n",
    "    'EC03': {'ore': 5}\n",
    "}"
   ]
  },
  {
   "cell_type": "code",
   "execution_count": 4,
   "id": "607734d2",
   "metadata": {},
   "outputs": [],
   "source": [
    "idxes = list(itertools.product(timeslots, courses))"
   ]
  },
  {
   "cell_type": "code",
   "execution_count": 5,
   "id": "9df81a8f",
   "metadata": {},
   "outputs": [],
   "source": [
    "from z3 import *"
   ]
  },
  {
   "cell_type": "code",
   "execution_count": 6,
   "id": "a4465e99",
   "metadata": {},
   "outputs": [],
   "source": [
    "s = Solver()"
   ]
  },
  {
   "cell_type": "code",
   "execution_count": 7,
   "id": "7df7e08d",
   "metadata": {},
   "outputs": [],
   "source": [
    "X = {}\n",
    "for (i,j) in idxes:\n",
    "    X[(i,j)] = Bool(f\"{i}%{j}\")"
   ]
  },
  {
   "cell_type": "code",
   "execution_count": 8,
   "id": "5c4e5931",
   "metadata": {},
   "outputs": [],
   "source": [
    "s.add()"
   ]
  },
  {
   "cell_type": "code",
   "execution_count": 9,
   "id": "dfc4f477",
   "metadata": {},
   "outputs": [],
   "source": [
    "for course in courses:\n",
    "    s.add(PbEq([(X[j, course], 1) for j in timeslots], courses[course]['ore']))"
   ]
  },
  {
   "cell_type": "code",
   "execution_count": 10,
   "id": "20dab7ca",
   "metadata": {},
   "outputs": [],
   "source": [
    "# for t in timeslots:\n",
    "#   s.add(Implies(X[t, \"EC01\"], And(Not(X[t, 'EC03']))))\n",
    "#     s.add(Implies(X[t, \"EC03\"], And(Not(X[t, 'EC01']))))\n"
   ]
  },
  {
   "cell_type": "code",
   "execution_count": 11,
   "id": "79f63eb2",
   "metadata": {},
   "outputs": [],
   "source": [
    "m = s.model() if s.check() == sat else None\n",
    "if m is None:\n",
    "    raise Exception(\"AAA\")"
   ]
  },
  {
   "cell_type": "code",
   "execution_count": 12,
   "id": "1c5ad8e9",
   "metadata": {},
   "outputs": [],
   "source": [
    "days = ['Monday', 'Tuesday']\n",
    "hours = ['6:00-7:00', '7:00-8:00', '8:00-9:00', '9:00-10:00', '11:00-12:00']\n",
    "\n",
    "H = dict(enumerate(itertools.product(days, hours)))"
   ]
  },
  {
   "cell_type": "code",
   "execution_count": null,
   "id": "49721565",
   "metadata": {},
   "outputs": [],
   "source": []
  },
  {
   "cell_type": "code",
   "execution_count": 13,
   "id": "316f8636",
   "metadata": {},
   "outputs": [
    {
     "name": "stdout",
     "output_type": "stream",
     "text": [
      "('Monday', '6:00-7:00'): EC01\n",
      "('Monday', '6:00-7:00'): EC03\n",
      "('Monday', '7:00-8:00'): EC01\n",
      "('Monday', '7:00-8:00'): EC03\n",
      "('Monday', '8:00-9:00'): EC01\n",
      "('Monday', '8:00-9:00'): EC03\n",
      "('Monday', '9:00-10:00'): EC01\n",
      "('Monday', '9:00-10:00'): EC03\n",
      "('Monday', '11:00-12:00'): EC01\n",
      "('Monday', '11:00-12:00'): EC03\n"
     ]
    }
   ],
   "source": [
    "\n",
    "for (t, c) in idxes:\n",
    "    if m.evaluate(X[t, c]):\n",
    "        print(f\"{H[t]}: {c}\")"
   ]
  },
  {
   "cell_type": "markdown",
   "id": "26b57bc9",
   "metadata": {},
   "source": [
    "#  A BIGGER PROTOTYPE"
   ]
  },
  {
   "cell_type": "code",
   "execution_count": null,
   "id": "2e5fdd1a",
   "metadata": {},
   "outputs": [],
   "source": [
    "courses = {\n",
    "    'EC01': {'ore': 5, 'format': (2,1,2)},\n",
    "    'EC03': {'ore': 5, 'format': (3,2)}\n",
    "}"
   ]
  }
 ],
 "metadata": {
  "kernelspec": {
   "display_name": "base",
   "language": "python",
   "name": "python3"
  },
  "language_info": {
   "codemirror_mode": {
    "name": "ipython",
    "version": 3
   },
   "file_extension": ".py",
   "mimetype": "text/x-python",
   "name": "python",
   "nbconvert_exporter": "python",
   "pygments_lexer": "ipython3",
   "version": "3.12.7"
  }
 },
 "nbformat": 4,
 "nbformat_minor": 5
}
